{
 "cells": [
  {
   "cell_type": "code",
   "execution_count": 1,
   "id": "af0bb0a8",
   "metadata": {
    "execution": {
     "iopub.execute_input": "2022-10-12T18:01:31.864912Z",
     "iopub.status.busy": "2022-10-12T18:01:31.864100Z",
     "iopub.status.idle": "2022-10-12T18:01:37.763081Z",
     "shell.execute_reply": "2022-10-12T18:01:37.762119Z"
    },
    "papermill": {
     "duration": 5.913026,
     "end_time": "2022-10-12T18:01:37.765616",
     "exception": false,
     "start_time": "2022-10-12T18:01:31.852590",
     "status": "completed"
    },
    "tags": []
   },
   "outputs": [],
   "source": [
    "import numpy as np\n",
    "import pandas as pd \n",
    "import tensorflow as tf\n",
    "import seaborn as sns\n",
    "import matplotlib.pyplot as plt\n",
    "from sklearn.model_selection import train_test_split\n",
    "from sklearn.preprocessing import OneHotEncoder\n",
    "from sklearn.ensemble import RandomForestClassifier\n",
    "%matplotlib inline"
   ]
  },
  {
   "cell_type": "code",
   "execution_count": 2,
   "id": "ec4002e0",
   "metadata": {
    "execution": {
     "iopub.execute_input": "2022-10-12T18:01:37.783478Z",
     "iopub.status.busy": "2022-10-12T18:01:37.782956Z",
     "iopub.status.idle": "2022-10-12T18:01:37.802230Z",
     "shell.execute_reply": "2022-10-12T18:01:37.801388Z"
    },
    "papermill": {
     "duration": 0.030095,
     "end_time": "2022-10-12T18:01:37.804229",
     "exception": false,
     "start_time": "2022-10-12T18:01:37.774134",
     "status": "completed"
    },
    "tags": []
   },
   "outputs": [],
   "source": [
    "data = pd.read_csv('../input/heart-failure-prediction/heart.csv')"
   ]
  },
  {
   "cell_type": "code",
   "execution_count": 3,
   "id": "0d2b3e6a",
   "metadata": {
    "execution": {
     "iopub.execute_input": "2022-10-12T18:01:37.822220Z",
     "iopub.status.busy": "2022-10-12T18:01:37.821585Z",
     "iopub.status.idle": "2022-10-12T18:01:37.829724Z",
     "shell.execute_reply": "2022-10-12T18:01:37.828851Z"
    },
    "papermill": {
     "duration": 0.019504,
     "end_time": "2022-10-12T18:01:37.831699",
     "exception": false,
     "start_time": "2022-10-12T18:01:37.812195",
     "status": "completed"
    },
    "tags": []
   },
   "outputs": [
    {
     "data": {
      "text/plain": [
       "(918, 12)"
      ]
     },
     "execution_count": 3,
     "metadata": {},
     "output_type": "execute_result"
    }
   ],
   "source": [
    "data.shape"
   ]
  },
  {
   "cell_type": "code",
   "execution_count": 4,
   "id": "15dc279c",
   "metadata": {
    "execution": {
     "iopub.execute_input": "2022-10-12T18:01:37.850832Z",
     "iopub.status.busy": "2022-10-12T18:01:37.850093Z",
     "iopub.status.idle": "2022-10-12T18:01:37.867341Z",
     "shell.execute_reply": "2022-10-12T18:01:37.866387Z"
    },
    "papermill": {
     "duration": 0.02815,
     "end_time": "2022-10-12T18:01:37.869381",
     "exception": false,
     "start_time": "2022-10-12T18:01:37.841231",
     "status": "completed"
    },
    "tags": []
   },
   "outputs": [
    {
     "data": {
      "text/html": [
       "<div>\n",
       "<style scoped>\n",
       "    .dataframe tbody tr th:only-of-type {\n",
       "        vertical-align: middle;\n",
       "    }\n",
       "\n",
       "    .dataframe tbody tr th {\n",
       "        vertical-align: top;\n",
       "    }\n",
       "\n",
       "    .dataframe thead th {\n",
       "        text-align: right;\n",
       "    }\n",
       "</style>\n",
       "<table border=\"1\" class=\"dataframe\">\n",
       "  <thead>\n",
       "    <tr style=\"text-align: right;\">\n",
       "      <th></th>\n",
       "      <th>Age</th>\n",
       "      <th>Sex</th>\n",
       "      <th>ChestPainType</th>\n",
       "      <th>RestingBP</th>\n",
       "      <th>Cholesterol</th>\n",
       "      <th>FastingBS</th>\n",
       "      <th>RestingECG</th>\n",
       "      <th>MaxHR</th>\n",
       "      <th>ExerciseAngina</th>\n",
       "      <th>Oldpeak</th>\n",
       "      <th>ST_Slope</th>\n",
       "      <th>HeartDisease</th>\n",
       "    </tr>\n",
       "  </thead>\n",
       "  <tbody>\n",
       "    <tr>\n",
       "      <th>0</th>\n",
       "      <td>40</td>\n",
       "      <td>M</td>\n",
       "      <td>ATA</td>\n",
       "      <td>140</td>\n",
       "      <td>289</td>\n",
       "      <td>0</td>\n",
       "      <td>Normal</td>\n",
       "      <td>172</td>\n",
       "      <td>N</td>\n",
       "      <td>0.0</td>\n",
       "      <td>Up</td>\n",
       "      <td>0</td>\n",
       "    </tr>\n",
       "    <tr>\n",
       "      <th>1</th>\n",
       "      <td>49</td>\n",
       "      <td>F</td>\n",
       "      <td>NAP</td>\n",
       "      <td>160</td>\n",
       "      <td>180</td>\n",
       "      <td>0</td>\n",
       "      <td>Normal</td>\n",
       "      <td>156</td>\n",
       "      <td>N</td>\n",
       "      <td>1.0</td>\n",
       "      <td>Flat</td>\n",
       "      <td>1</td>\n",
       "    </tr>\n",
       "    <tr>\n",
       "      <th>2</th>\n",
       "      <td>37</td>\n",
       "      <td>M</td>\n",
       "      <td>ATA</td>\n",
       "      <td>130</td>\n",
       "      <td>283</td>\n",
       "      <td>0</td>\n",
       "      <td>ST</td>\n",
       "      <td>98</td>\n",
       "      <td>N</td>\n",
       "      <td>0.0</td>\n",
       "      <td>Up</td>\n",
       "      <td>0</td>\n",
       "    </tr>\n",
       "    <tr>\n",
       "      <th>3</th>\n",
       "      <td>48</td>\n",
       "      <td>F</td>\n",
       "      <td>ASY</td>\n",
       "      <td>138</td>\n",
       "      <td>214</td>\n",
       "      <td>0</td>\n",
       "      <td>Normal</td>\n",
       "      <td>108</td>\n",
       "      <td>Y</td>\n",
       "      <td>1.5</td>\n",
       "      <td>Flat</td>\n",
       "      <td>1</td>\n",
       "    </tr>\n",
       "    <tr>\n",
       "      <th>4</th>\n",
       "      <td>54</td>\n",
       "      <td>M</td>\n",
       "      <td>NAP</td>\n",
       "      <td>150</td>\n",
       "      <td>195</td>\n",
       "      <td>0</td>\n",
       "      <td>Normal</td>\n",
       "      <td>122</td>\n",
       "      <td>N</td>\n",
       "      <td>0.0</td>\n",
       "      <td>Up</td>\n",
       "      <td>0</td>\n",
       "    </tr>\n",
       "  </tbody>\n",
       "</table>\n",
       "</div>"
      ],
      "text/plain": [
       "   Age Sex ChestPainType  RestingBP  Cholesterol  FastingBS RestingECG  MaxHR  \\\n",
       "0   40   M           ATA        140          289          0     Normal    172   \n",
       "1   49   F           NAP        160          180          0     Normal    156   \n",
       "2   37   M           ATA        130          283          0         ST     98   \n",
       "3   48   F           ASY        138          214          0     Normal    108   \n",
       "4   54   M           NAP        150          195          0     Normal    122   \n",
       "\n",
       "  ExerciseAngina  Oldpeak ST_Slope  HeartDisease  \n",
       "0              N      0.0       Up             0  \n",
       "1              N      1.0     Flat             1  \n",
       "2              N      0.0       Up             0  \n",
       "3              Y      1.5     Flat             1  \n",
       "4              N      0.0       Up             0  "
      ]
     },
     "execution_count": 4,
     "metadata": {},
     "output_type": "execute_result"
    }
   ],
   "source": [
    "data.head()"
   ]
  },
  {
   "cell_type": "code",
   "execution_count": 5,
   "id": "be60421f",
   "metadata": {
    "execution": {
     "iopub.execute_input": "2022-10-12T18:01:37.888018Z",
     "iopub.status.busy": "2022-10-12T18:01:37.887272Z",
     "iopub.status.idle": "2022-10-12T18:01:37.925019Z",
     "shell.execute_reply": "2022-10-12T18:01:37.923922Z"
    },
    "papermill": {
     "duration": 0.049147,
     "end_time": "2022-10-12T18:01:37.927357",
     "exception": false,
     "start_time": "2022-10-12T18:01:37.878210",
     "status": "completed"
    },
    "tags": []
   },
   "outputs": [
    {
     "data": {
      "text/html": [
       "<div>\n",
       "<style scoped>\n",
       "    .dataframe tbody tr th:only-of-type {\n",
       "        vertical-align: middle;\n",
       "    }\n",
       "\n",
       "    .dataframe tbody tr th {\n",
       "        vertical-align: top;\n",
       "    }\n",
       "\n",
       "    .dataframe thead th {\n",
       "        text-align: right;\n",
       "    }\n",
       "</style>\n",
       "<table border=\"1\" class=\"dataframe\">\n",
       "  <thead>\n",
       "    <tr style=\"text-align: right;\">\n",
       "      <th></th>\n",
       "      <th>Age</th>\n",
       "      <th>RestingBP</th>\n",
       "      <th>Cholesterol</th>\n",
       "      <th>FastingBS</th>\n",
       "      <th>MaxHR</th>\n",
       "      <th>Oldpeak</th>\n",
       "      <th>HeartDisease</th>\n",
       "    </tr>\n",
       "  </thead>\n",
       "  <tbody>\n",
       "    <tr>\n",
       "      <th>count</th>\n",
       "      <td>918.000000</td>\n",
       "      <td>918.000000</td>\n",
       "      <td>918.000000</td>\n",
       "      <td>918.000000</td>\n",
       "      <td>918.000000</td>\n",
       "      <td>918.000000</td>\n",
       "      <td>918.000000</td>\n",
       "    </tr>\n",
       "    <tr>\n",
       "      <th>mean</th>\n",
       "      <td>53.510893</td>\n",
       "      <td>132.396514</td>\n",
       "      <td>198.799564</td>\n",
       "      <td>0.233115</td>\n",
       "      <td>136.809368</td>\n",
       "      <td>0.887364</td>\n",
       "      <td>0.553377</td>\n",
       "    </tr>\n",
       "    <tr>\n",
       "      <th>std</th>\n",
       "      <td>9.432617</td>\n",
       "      <td>18.514154</td>\n",
       "      <td>109.384145</td>\n",
       "      <td>0.423046</td>\n",
       "      <td>25.460334</td>\n",
       "      <td>1.066570</td>\n",
       "      <td>0.497414</td>\n",
       "    </tr>\n",
       "    <tr>\n",
       "      <th>min</th>\n",
       "      <td>28.000000</td>\n",
       "      <td>0.000000</td>\n",
       "      <td>0.000000</td>\n",
       "      <td>0.000000</td>\n",
       "      <td>60.000000</td>\n",
       "      <td>-2.600000</td>\n",
       "      <td>0.000000</td>\n",
       "    </tr>\n",
       "    <tr>\n",
       "      <th>25%</th>\n",
       "      <td>47.000000</td>\n",
       "      <td>120.000000</td>\n",
       "      <td>173.250000</td>\n",
       "      <td>0.000000</td>\n",
       "      <td>120.000000</td>\n",
       "      <td>0.000000</td>\n",
       "      <td>0.000000</td>\n",
       "    </tr>\n",
       "    <tr>\n",
       "      <th>50%</th>\n",
       "      <td>54.000000</td>\n",
       "      <td>130.000000</td>\n",
       "      <td>223.000000</td>\n",
       "      <td>0.000000</td>\n",
       "      <td>138.000000</td>\n",
       "      <td>0.600000</td>\n",
       "      <td>1.000000</td>\n",
       "    </tr>\n",
       "    <tr>\n",
       "      <th>75%</th>\n",
       "      <td>60.000000</td>\n",
       "      <td>140.000000</td>\n",
       "      <td>267.000000</td>\n",
       "      <td>0.000000</td>\n",
       "      <td>156.000000</td>\n",
       "      <td>1.500000</td>\n",
       "      <td>1.000000</td>\n",
       "    </tr>\n",
       "    <tr>\n",
       "      <th>max</th>\n",
       "      <td>77.000000</td>\n",
       "      <td>200.000000</td>\n",
       "      <td>603.000000</td>\n",
       "      <td>1.000000</td>\n",
       "      <td>202.000000</td>\n",
       "      <td>6.200000</td>\n",
       "      <td>1.000000</td>\n",
       "    </tr>\n",
       "  </tbody>\n",
       "</table>\n",
       "</div>"
      ],
      "text/plain": [
       "              Age   RestingBP  Cholesterol   FastingBS       MaxHR  \\\n",
       "count  918.000000  918.000000   918.000000  918.000000  918.000000   \n",
       "mean    53.510893  132.396514   198.799564    0.233115  136.809368   \n",
       "std      9.432617   18.514154   109.384145    0.423046   25.460334   \n",
       "min     28.000000    0.000000     0.000000    0.000000   60.000000   \n",
       "25%     47.000000  120.000000   173.250000    0.000000  120.000000   \n",
       "50%     54.000000  130.000000   223.000000    0.000000  138.000000   \n",
       "75%     60.000000  140.000000   267.000000    0.000000  156.000000   \n",
       "max     77.000000  200.000000   603.000000    1.000000  202.000000   \n",
       "\n",
       "          Oldpeak  HeartDisease  \n",
       "count  918.000000    918.000000  \n",
       "mean     0.887364      0.553377  \n",
       "std      1.066570      0.497414  \n",
       "min     -2.600000      0.000000  \n",
       "25%      0.000000      0.000000  \n",
       "50%      0.600000      1.000000  \n",
       "75%      1.500000      1.000000  \n",
       "max      6.200000      1.000000  "
      ]
     },
     "execution_count": 5,
     "metadata": {},
     "output_type": "execute_result"
    }
   ],
   "source": [
    "data.describe()"
   ]
  },
  {
   "cell_type": "code",
   "execution_count": 6,
   "id": "c7750f09",
   "metadata": {
    "execution": {
     "iopub.execute_input": "2022-10-12T18:01:37.946941Z",
     "iopub.status.busy": "2022-10-12T18:01:37.946096Z",
     "iopub.status.idle": "2022-10-12T18:01:37.952923Z",
     "shell.execute_reply": "2022-10-12T18:01:37.951515Z"
    },
    "papermill": {
     "duration": 0.018622,
     "end_time": "2022-10-12T18:01:37.954924",
     "exception": false,
     "start_time": "2022-10-12T18:01:37.936302",
     "status": "completed"
    },
    "tags": []
   },
   "outputs": [
    {
     "name": "stdout",
     "output_type": "stream",
     "text": [
      "ASY    496\n",
      "NAP    203\n",
      "ATA    173\n",
      "TA      46\n",
      "Name: ChestPainType, dtype: int64\n"
     ]
    }
   ],
   "source": [
    "print(data['ChestPainType'].value_counts())"
   ]
  },
  {
   "cell_type": "code",
   "execution_count": 7,
   "id": "a9d751fb",
   "metadata": {
    "execution": {
     "iopub.execute_input": "2022-10-12T18:01:37.974656Z",
     "iopub.status.busy": "2022-10-12T18:01:37.973040Z",
     "iopub.status.idle": "2022-10-12T18:01:37.979897Z",
     "shell.execute_reply": "2022-10-12T18:01:37.978530Z"
    },
    "papermill": {
     "duration": 0.019081,
     "end_time": "2022-10-12T18:01:37.982604",
     "exception": false,
     "start_time": "2022-10-12T18:01:37.963523",
     "status": "completed"
    },
    "tags": []
   },
   "outputs": [
    {
     "name": "stdout",
     "output_type": "stream",
     "text": [
      "Normal    552\n",
      "LVH       188\n",
      "ST        178\n",
      "Name: RestingECG, dtype: int64\n"
     ]
    }
   ],
   "source": [
    "print(data['RestingECG'].value_counts())"
   ]
  },
  {
   "cell_type": "code",
   "execution_count": 8,
   "id": "63d95b10",
   "metadata": {
    "execution": {
     "iopub.execute_input": "2022-10-12T18:01:38.002134Z",
     "iopub.status.busy": "2022-10-12T18:01:38.001224Z",
     "iopub.status.idle": "2022-10-12T18:01:38.007672Z",
     "shell.execute_reply": "2022-10-12T18:01:38.006751Z"
    },
    "papermill": {
     "duration": 0.017937,
     "end_time": "2022-10-12T18:01:38.009570",
     "exception": false,
     "start_time": "2022-10-12T18:01:37.991633",
     "status": "completed"
    },
    "tags": []
   },
   "outputs": [
    {
     "name": "stdout",
     "output_type": "stream",
     "text": [
      "N    547\n",
      "Y    371\n",
      "Name: ExerciseAngina, dtype: int64\n"
     ]
    }
   ],
   "source": [
    "print(data['ExerciseAngina'].value_counts())"
   ]
  },
  {
   "cell_type": "code",
   "execution_count": 9,
   "id": "fec06517",
   "metadata": {
    "execution": {
     "iopub.execute_input": "2022-10-12T18:01:38.028706Z",
     "iopub.status.busy": "2022-10-12T18:01:38.027832Z",
     "iopub.status.idle": "2022-10-12T18:01:38.034144Z",
     "shell.execute_reply": "2022-10-12T18:01:38.033060Z"
    },
    "papermill": {
     "duration": 0.017749,
     "end_time": "2022-10-12T18:01:38.035986",
     "exception": false,
     "start_time": "2022-10-12T18:01:38.018237",
     "status": "completed"
    },
    "tags": []
   },
   "outputs": [
    {
     "name": "stdout",
     "output_type": "stream",
     "text": [
      "Flat    460\n",
      "Up      395\n",
      "Down     63\n",
      "Name: ST_Slope, dtype: int64\n"
     ]
    }
   ],
   "source": [
    "print(data['ST_Slope'].value_counts())"
   ]
  },
  {
   "cell_type": "code",
   "execution_count": 10,
   "id": "3091e667",
   "metadata": {
    "execution": {
     "iopub.execute_input": "2022-10-12T18:01:38.054949Z",
     "iopub.status.busy": "2022-10-12T18:01:38.054160Z",
     "iopub.status.idle": "2022-10-12T18:01:38.066284Z",
     "shell.execute_reply": "2022-10-12T18:01:38.065154Z"
    },
    "papermill": {
     "duration": 0.024158,
     "end_time": "2022-10-12T18:01:38.068823",
     "exception": false,
     "start_time": "2022-10-12T18:01:38.044665",
     "status": "completed"
    },
    "tags": []
   },
   "outputs": [
    {
     "name": "stdout",
     "output_type": "stream",
     "text": [
      "Age null entries:  0 ,  Sex null entries:  0 ,  ChestPainType null enries:  0 ,  RestingBP null entries:  0 ,  Cholesterol null entries:  0 ,  FastingBS null entries:  0 ,  RestingECG null entries:  0 ,  MaxHR null entries:  0 ,  ExerciseAngina null entries:  0 ,  Oldpeak null entries:  0 ,  ST_Slope null entries:  0 ,  HeartDisease null entries:  0\n",
      "False\n"
     ]
    }
   ],
   "source": [
    "# Checking for null values in the dataset\n",
    "print(\"Age null entries: \",data['Age'].isnull().sum(), \", \",\n",
    "      \"Sex null entries: \",data['Sex'].isnull().sum(), \", \",\n",
    "      \"ChestPainType null enries: \", data['ChestPainType'].isnull().sum(), \", \",\n",
    "      \"RestingBP null entries: \",data['RestingBP'].isnull().sum(), \", \",\n",
    "      \"Cholesterol null entries: \",data['Cholesterol'].isnull().sum(), \", \",\n",
    "      \"FastingBS null entries: \",data['FastingBS'].isnull().sum(), \", \",\n",
    "      \"RestingECG null entries: \",data['RestingECG'].isnull().sum(), \", \",\n",
    "      \"MaxHR null entries: \",data['MaxHR'].isnull().sum(), \", \",\n",
    "      \"ExerciseAngina null entries: \",data['ExerciseAngina'].isnull().sum(), \", \",\n",
    "      \"Oldpeak null entries: \",data['Oldpeak'].isnull().sum(), \", \",\n",
    "      \"ST_Slope null entries: \",data['ST_Slope'].isnull().sum(), \", \",\n",
    "      \"HeartDisease null entries: \",data['HeartDisease'].isnull().sum())\n",
    "print(data.isnull().values.any())"
   ]
  },
  {
   "cell_type": "code",
   "execution_count": 11,
   "id": "d69b60dc",
   "metadata": {
    "execution": {
     "iopub.execute_input": "2022-10-12T18:01:38.089302Z",
     "iopub.status.busy": "2022-10-12T18:01:38.088772Z",
     "iopub.status.idle": "2022-10-12T18:01:38.099005Z",
     "shell.execute_reply": "2022-10-12T18:01:38.098051Z"
    },
    "papermill": {
     "duration": 0.021974,
     "end_time": "2022-10-12T18:01:38.100890",
     "exception": false,
     "start_time": "2022-10-12T18:01:38.078916",
     "status": "completed"
    },
    "tags": []
   },
   "outputs": [
    {
     "data": {
      "text/plain": [
       "False"
      ]
     },
     "execution_count": 11,
     "metadata": {},
     "output_type": "execute_result"
    }
   ],
   "source": [
    "# Checking for duplicate values\n",
    "data.duplicated().any()"
   ]
  },
  {
   "cell_type": "code",
   "execution_count": 12,
   "id": "6004bb25",
   "metadata": {
    "execution": {
     "iopub.execute_input": "2022-10-12T18:01:38.119984Z",
     "iopub.status.busy": "2022-10-12T18:01:38.119246Z",
     "iopub.status.idle": "2022-10-12T18:01:38.453728Z",
     "shell.execute_reply": "2022-10-12T18:01:38.452866Z"
    },
    "papermill": {
     "duration": 0.346138,
     "end_time": "2022-10-12T18:01:38.455781",
     "exception": false,
     "start_time": "2022-10-12T18:01:38.109643",
     "status": "completed"
    },
    "tags": []
   },
   "outputs": [
    {
     "data": {
      "text/plain": [
       "<AxesSubplot:ylabel='Frequency'>"
      ]
     },
     "execution_count": 12,
     "metadata": {},
     "output_type": "execute_result"
    },
    {
     "data": {
      "image/png": "[encoded data removed]",
      "text/plain": [
       "<Figure size 864x576 with 1 Axes>"
      ]
     },
     "metadata": {
      "needs_background": "light"
     },
     "output_type": "display_data"
    }
   ],
   "source": [
    "data['Age'].plot(kind='hist', bins=50, figsize=(12, 8))"
   ]
  },
  {
   "cell_type": "code",
   "execution_count": 13,
   "id": "eb44e38f",
   "metadata": {
    "execution": {
     "iopub.execute_input": "2022-10-12T18:01:38.475573Z",
     "iopub.status.busy": "2022-10-12T18:01:38.475290Z",
     "iopub.status.idle": "2022-10-12T18:01:38.767010Z",
     "shell.execute_reply": "2022-10-12T18:01:38.766179Z"
    },
    "papermill": {
     "duration": 0.303744,
     "end_time": "2022-10-12T18:01:38.768983",
     "exception": false,
     "start_time": "2022-10-12T18:01:38.465239",
     "status": "completed"
    },
    "tags": []
   },
   "outputs": [
    {
     "data": {
      "text/plain": [
       "<AxesSubplot:ylabel='Frequency'>"
      ]
     },
     "execution_count": 13,
     "metadata": {},
     "output_type": "execute_result"
    },
    {
     "data": {
      "image/png": "[encoded data removed]",
      "text/plain": [
       "<Figure size 864x576 with 1 Axes>"
      ]
     },
     "metadata": {
      "needs_background": "light"
     },
     "output_type": "display_data"
    }
   ],
   "source": [
    "data['RestingBP'].plot(kind='hist', bins=40, figsize=(12, 8))"
   ]
  },
  {
   "cell_type": "code",
   "execution_count": 14,
   "id": "6a51e12a",
   "metadata": {
    "execution": {
     "iopub.execute_input": "2022-10-12T18:01:38.791268Z",
     "iopub.status.busy": "2022-10-12T18:01:38.790929Z",
     "iopub.status.idle": "2022-10-12T18:01:39.007214Z",
     "shell.execute_reply": "2022-10-12T18:01:39.006169Z"
    },
    "papermill": {
     "duration": 0.229819,
     "end_time": "2022-10-12T18:01:39.009367",
     "exception": false,
     "start_time": "2022-10-12T18:01:38.779548",
     "status": "completed"
    },
    "tags": []
   },
   "outputs": [
    {
     "data": {
      "text/plain": [
       "<AxesSubplot:>"
      ]
     },
     "execution_count": 14,
     "metadata": {},
     "output_type": "execute_result"
    },
    {
     "data": {
      "image/png": "[encoded data removed]",
      "text/plain": [
       "<Figure size 864x576 with 1 Axes>"
      ]
     },
     "metadata": {
      "needs_background": "light"
     },
     "output_type": "display_data"
    }
   ],
   "source": [
    "data['Sex'].value_counts().plot(kind='bar', figsize=(12, 8))"
   ]
  },
  {
   "cell_type": "code",
   "execution_count": 15,
   "id": "9695e361",
   "metadata": {
    "execution": {
     "iopub.execute_input": "2022-10-12T18:01:39.032452Z",
     "iopub.status.busy": "2022-10-12T18:01:39.031807Z",
     "iopub.status.idle": "2022-10-12T18:01:39.242897Z",
     "shell.execute_reply": "2022-10-12T18:01:39.241918Z"
    },
    "papermill": {
     "duration": 0.224878,
     "end_time": "2022-10-12T18:01:39.245071",
     "exception": false,
     "start_time": "2022-10-12T18:01:39.020193",
     "status": "completed"
    },
    "tags": []
   },
   "outputs": [
    {
     "data": {
      "text/plain": [
       "<AxesSubplot:>"
      ]
     },
     "execution_count": 15,
     "metadata": {},
     "output_type": "execute_result"
    },
    {
     "data": {
      "image/png": "[encoded data removed]",
      "text/plain": [
       "<Figure size 864x576 with 1 Axes>"
      ]
     },
     "metadata": {
      "needs_background": "light"
     },
     "output_type": "display_data"
    }
   ],
   "source": [
    "data['ChestPainType'].value_counts().plot(kind='bar', figsize=(12, 8))"
   ]
  },
  {
   "cell_type": "code",
   "execution_count": 16,
   "id": "35a7dc97",
   "metadata": {
    "execution": {
     "iopub.execute_input": "2022-10-12T18:01:39.267647Z",
     "iopub.status.busy": "2022-10-12T18:01:39.267343Z",
     "iopub.status.idle": "2022-10-12T18:01:39.403122Z",
     "shell.execute_reply": "2022-10-12T18:01:39.401763Z"
    },
    "papermill": {
     "duration": 0.151742,
     "end_time": "2022-10-12T18:01:39.407641",
     "exception": false,
     "start_time": "2022-10-12T18:01:39.255899",
     "status": "completed"
    },
    "tags": []
   },
   "outputs": [
    {
     "data": {
      "text/plain": [
       "<AxesSubplot:ylabel='RestingECG'>"
      ]
     },
     "execution_count": 16,
     "metadata": {},
     "output_type": "execute_result"
    },
    {
     "data": {
      "image/png": "[encoded data removed]",
      "text/plain": [
       "<Figure size 864x576 with 1 Axes>"
      ]
     },
     "metadata": {},
     "output_type": "display_data"
    }
   ],
   "source": [
    "data['RestingECG'].value_counts().plot(kind='pie', figsize=(12, 8))"
   ]
  },
  {
   "cell_type": "code",
   "execution_count": 17,
   "id": "f49a5422",
   "metadata": {
    "execution": {
     "iopub.execute_input": "2022-10-12T18:01:39.469776Z",
     "iopub.status.busy": "2022-10-12T18:01:39.469220Z",
     "iopub.status.idle": "2022-10-12T18:01:39.587469Z",
     "shell.execute_reply": "2022-10-12T18:01:39.586058Z"
    },
    "papermill": {
     "duration": 0.15206,
     "end_time": "2022-10-12T18:01:39.590708",
     "exception": false,
     "start_time": "2022-10-12T18:01:39.438648",
     "status": "completed"
    },
    "tags": []
   },
   "outputs": [
    {
     "data": {
      "text/plain": [
       "<AxesSubplot:ylabel='ST_Slope'>"
      ]
     },
     "execution_count": 17,
     "metadata": {},
     "output_type": "execute_result"
    },
    {
     "data": {
      "image/png": "[encoded data removed]",
      "text/plain": [
       "<Figure size 864x576 with 1 Axes>"
      ]
     },
     "metadata": {},
     "output_type": "display_data"
    }
   ],
   "source": [
    "data['ST_Slope'].value_counts().plot(kind='pie', figsize=(12, 8))"
   ]
  },
  {
   "cell_type": "code",
   "execution_count": 18,
   "id": "6a5cab87",
   "metadata": {
    "execution": {
     "iopub.execute_input": "2022-10-12T18:01:39.651515Z",
     "iopub.status.busy": "2022-10-12T18:01:39.650923Z",
     "iopub.status.idle": "2022-10-12T18:01:39.909772Z",
     "shell.execute_reply": "2022-10-12T18:01:39.908980Z"
    },
    "papermill": {
     "duration": 0.290425,
     "end_time": "2022-10-12T18:01:39.911761",
     "exception": false,
     "start_time": "2022-10-12T18:01:39.621336",
     "status": "completed"
    },
    "tags": []
   },
   "outputs": [
    {
     "data": {
      "text/plain": [
       "<AxesSubplot:ylabel='Density'>"
      ]
     },
     "execution_count": 18,
     "metadata": {},
     "output_type": "execute_result"
    },
    {
     "data": {
      "image/png": "[encoded data removed]",
      "text/plain": [
       "<Figure size 864x576 with 1 Axes>"
      ]
     },
     "metadata": {
      "needs_background": "light"
     },
     "output_type": "display_data"
    }
   ],
   "source": [
    "data['RestingBP'].plot(kind='kde', figsize=(12, 8))"
   ]
  },
  {
   "cell_type": "code",
   "execution_count": 19,
   "id": "d8df13bb",
   "metadata": {
    "execution": {
     "iopub.execute_input": "2022-10-12T18:01:39.935581Z",
     "iopub.status.busy": "2022-10-12T18:01:39.935279Z",
     "iopub.status.idle": "2022-10-12T18:01:40.183352Z",
     "shell.execute_reply": "2022-10-12T18:01:40.182388Z"
    },
    "papermill": {
     "duration": 0.262246,
     "end_time": "2022-10-12T18:01:40.185449",
     "exception": false,
     "start_time": "2022-10-12T18:01:39.923203",
     "status": "completed"
    },
    "tags": []
   },
   "outputs": [
    {
     "data": {
      "text/plain": [
       "<AxesSubplot:ylabel='Density'>"
      ]
     },
     "execution_count": 19,
     "metadata": {},
     "output_type": "execute_result"
    },
    {
     "data": {
      "image/png": "[encoded data removed]",
      "text/plain": [
       "<Figure size 864x576 with 1 Axes>"
      ]
     },
     "metadata": {
      "needs_background": "light"
     },
     "output_type": "display_data"
    }
   ],
   "source": [
    "data['FastingBS'].plot(kind='kde', figsize=(12, 8))"
   ]
  },
  {
   "cell_type": "code",
   "execution_count": 20,
   "id": "0b6a200f",
   "metadata": {
    "execution": {
     "iopub.execute_input": "2022-10-12T18:01:40.210242Z",
     "iopub.status.busy": "2022-10-12T18:01:40.209796Z",
     "iopub.status.idle": "2022-10-12T18:01:40.456834Z",
     "shell.execute_reply": "2022-10-12T18:01:40.455947Z"
    },
    "papermill": {
     "duration": 0.261573,
     "end_time": "2022-10-12T18:01:40.458945",
     "exception": false,
     "start_time": "2022-10-12T18:01:40.197372",
     "status": "completed"
    },
    "tags": []
   },
   "outputs": [
    {
     "data": {
      "text/plain": [
       "<AxesSubplot:ylabel='Density'>"
      ]
     },
     "execution_count": 20,
     "metadata": {},
     "output_type": "execute_result"
    },
    {
     "data": {
      "image/png": "[encoded data removed]",
      "text/plain": [
       "<Figure size 864x576 with 1 Axes>"
      ]
     },
     "metadata": {
      "needs_background": "light"
     },
     "output_type": "display_data"
    }
   ],
   "source": [
    "data['MaxHR'].plot(kind='kde', figsize=(12, 8))"
   ]
  },
  {
   "cell_type": "code",
   "execution_count": 21,
   "id": "ae630b25",
   "metadata": {
    "execution": {
     "iopub.execute_input": "2022-10-12T18:01:40.484335Z",
     "iopub.status.busy": "2022-10-12T18:01:40.483662Z",
     "iopub.status.idle": "2022-10-12T18:01:40.729126Z",
     "shell.execute_reply": "2022-10-12T18:01:40.728041Z"
    },
    "papermill": {
     "duration": 0.260169,
     "end_time": "2022-10-12T18:01:40.731200",
     "exception": false,
     "start_time": "2022-10-12T18:01:40.471031",
     "status": "completed"
    },
    "tags": []
   },
   "outputs": [
    {
     "data": {
      "text/plain": [
       "<AxesSubplot:ylabel='Density'>"
      ]
     },
     "execution_count": 21,
     "metadata": {},
     "output_type": "execute_result"
    },
    {
     "data": {
      "image/png": "[encoded data removed]",
      "text/plain": [
       "<Figure size 864x576 with 1 Axes>"
      ]
     },
     "metadata": {
      "needs_background": "light"
     },
     "output_type": "display_data"
    }
   ],
   "source": [
    "data['Oldpeak'].plot(kind='kde', figsize=(12, 8))"
   ]
  },
  {
   "cell_type": "code",
   "execution_count": 22,
   "id": "f22b923b",
   "metadata": {
    "execution": {
     "iopub.execute_input": "2022-10-12T18:01:40.758438Z",
     "iopub.status.busy": "2022-10-12T18:01:40.756957Z",
     "iopub.status.idle": "2022-10-12T18:01:40.979534Z",
     "shell.execute_reply": "2022-10-12T18:01:40.978662Z"
    },
    "papermill": {
     "duration": 0.237634,
     "end_time": "2022-10-12T18:01:40.981445",
     "exception": false,
     "start_time": "2022-10-12T18:01:40.743811",
     "status": "completed"
    },
    "tags": []
   },
   "outputs": [
    {
     "data": {
      "image/png": "[encoded data removed]",
      "text/plain": [
       "<Figure size 864x576 with 1 Axes>"
      ]
     },
     "metadata": {
      "needs_background": "light"
     },
     "output_type": "display_data"
    }
   ],
   "source": [
    "plt.figure(figsize=(12, 8))\n",
    "plt.scatter(data['Cholesterol'], data['RestingBP'], color='red')\n",
    "plt.xlabel(\"Cholesterol\", size=20)\n",
    "plt.ylabel(\"RestingBP\", size=20)\n",
    "plt.show()\n"
   ]
  },
  {
   "cell_type": "code",
   "execution_count": 23,
   "id": "bbea20f8",
   "metadata": {
    "execution": {
     "iopub.execute_input": "2022-10-12T18:01:41.008026Z",
     "iopub.status.busy": "2022-10-12T18:01:41.007728Z",
     "iopub.status.idle": "2022-10-12T18:01:41.251006Z",
     "shell.execute_reply": "2022-10-12T18:01:41.249889Z"
    },
    "papermill": {
     "duration": 0.258693,
     "end_time": "2022-10-12T18:01:41.252899",
     "exception": false,
     "start_time": "2022-10-12T18:01:40.994206",
     "status": "completed"
    },
    "tags": []
   },
   "outputs": [
    {
     "data": {
      "text/plain": [
       "<AxesSubplot:title={'center':'Age/RestingBP'}, xlabel='Age', ylabel='RestingBP'>"
      ]
     },
     "execution_count": 23,
     "metadata": {},
     "output_type": "execute_result"
    },
    {
     "data": {
      "image/png": "[encoded data removed]",
      "text/plain": [
       "<Figure size 864x576 with 1 Axes>"
      ]
     },
     "metadata": {
      "needs_background": "light"
     },
     "output_type": "display_data"
    }
   ],
   "source": [
    "data.plot(title='Age/RestingBP',kind='scatter', x='Age', y='RestingBP', color='green', figsize=(12, 8))"
   ]
  },
  {
   "cell_type": "code",
   "execution_count": 24,
   "id": "0d794b8f",
   "metadata": {
    "execution": {
     "iopub.execute_input": "2022-10-12T18:01:41.281602Z",
     "iopub.status.busy": "2022-10-12T18:01:41.280746Z",
     "iopub.status.idle": "2022-10-12T18:01:41.505753Z",
     "shell.execute_reply": "2022-10-12T18:01:41.504887Z"
    },
    "papermill": {
     "duration": 0.241337,
     "end_time": "2022-10-12T18:01:41.507811",
     "exception": false,
     "start_time": "2022-10-12T18:01:41.266474",
     "status": "completed"
    },
    "tags": []
   },
   "outputs": [
    {
     "data": {
      "text/plain": [
       "<AxesSubplot:title={'center':'Oldpeak/Age scatter'}, xlabel='Oldpeak', ylabel='Age'>"
      ]
     },
     "execution_count": 24,
     "metadata": {},
     "output_type": "execute_result"
    },
    {
     "data": {
      "image/png": "[encoded data removed]",
      "text/plain": [
       "<Figure size 864x576 with 1 Axes>"
      ]
     },
     "metadata": {
      "needs_background": "light"
     },
     "output_type": "display_data"
    }
   ],
   "source": [
    "data.plot(title='Oldpeak/Age scatter', x='Oldpeak', y='Age',kind='scatter', color='blue', figsize=(12, 8))"
   ]
  },
  {
   "cell_type": "code",
   "execution_count": 25,
   "id": "48380f73",
   "metadata": {
    "execution": {
     "iopub.execute_input": "2022-10-12T18:01:41.535942Z",
     "iopub.status.busy": "2022-10-12T18:01:41.535658Z",
     "iopub.status.idle": "2022-10-12T18:01:41.786828Z",
     "shell.execute_reply": "2022-10-12T18:01:41.785923Z"
    },
    "papermill": {
     "duration": 0.267433,
     "end_time": "2022-10-12T18:01:41.788917",
     "exception": false,
     "start_time": "2022-10-12T18:01:41.521484",
     "status": "completed"
    },
    "tags": []
   },
   "outputs": [
    {
     "data": {
      "text/plain": [
       "<AxesSubplot:title={'center':'MaxHR/Cholesterol scattera'}, xlabel='MaxHR', ylabel='Cholesterol'>"
      ]
     },
     "execution_count": 25,
     "metadata": {},
     "output_type": "execute_result"
    },
    {
     "data": {
      "image/png": "[encoded data removed]",
      "text/plain": [
       "<Figure size 864x576 with 1 Axes>"
      ]
     },
     "metadata": {
      "needs_background": "light"
     },
     "output_type": "display_data"
    }
   ],
   "source": [
    "data.plot(title='MaxHR/Cholesterol scattera', x='MaxHR', y='Cholesterol',kind='scatter', color='purple', figsize=(12, 8))"
   ]
  },
  {
   "cell_type": "code",
   "execution_count": 26,
   "id": "d7f387d6",
   "metadata": {
    "execution": {
     "iopub.execute_input": "2022-10-12T18:01:41.818971Z",
     "iopub.status.busy": "2022-10-12T18:01:41.818316Z",
     "iopub.status.idle": "2022-10-12T18:01:42.058374Z",
     "shell.execute_reply": "2022-10-12T18:01:42.057503Z"
    },
    "papermill": {
     "duration": 0.256921,
     "end_time": "2022-10-12T18:01:42.060352",
     "exception": false,
     "start_time": "2022-10-12T18:01:41.803431",
     "status": "completed"
    },
    "tags": []
   },
   "outputs": [
    {
     "data": {
      "text/plain": [
       "<AxesSubplot:title={'center':'MaxHR/Age scatter'}, xlabel='Age', ylabel='MaxHR'>"
      ]
     },
     "execution_count": 26,
     "metadata": {},
     "output_type": "execute_result"
    },
    {
     "data": {
      "image/png": "[encoded data removed]",
      "text/plain": [
       "<Figure size 864x576 with 1 Axes>"
      ]
     },
     "metadata": {
      "needs_background": "light"
     },
     "output_type": "display_data"
    }
   ],
   "source": [
    "data.plot(title='MaxHR/Age scatter', x='Age', y='MaxHR',kind='scatter', color='black', figsize=(12, 8))"
   ]
  },
  {
   "cell_type": "code",
   "execution_count": 27,
   "id": "8d425bec",
   "metadata": {
    "execution": {
     "iopub.execute_input": "2022-10-12T18:01:42.091731Z",
     "iopub.status.busy": "2022-10-12T18:01:42.090247Z",
     "iopub.status.idle": "2022-10-12T18:01:42.106804Z",
     "shell.execute_reply": "2022-10-12T18:01:42.105789Z"
    },
    "papermill": {
     "duration": 0.034729,
     "end_time": "2022-10-12T18:01:42.109559",
     "exception": false,
     "start_time": "2022-10-12T18:01:42.074830",
     "status": "completed"
    },
    "tags": []
   },
   "outputs": [
    {
     "data": {
      "text/html": [
       "<div>\n",
       "<style scoped>\n",
       "    .dataframe tbody tr th:only-of-type {\n",
       "        vertical-align: middle;\n",
       "    }\n",
       "\n",
       "    .dataframe tbody tr th {\n",
       "        vertical-align: top;\n",
       "    }\n",
       "\n",
       "    .dataframe thead th {\n",
       "        text-align: right;\n",
       "    }\n",
       "</style>\n",
       "<table border=\"1\" class=\"dataframe\">\n",
       "  <thead>\n",
       "    <tr style=\"text-align: right;\">\n",
       "      <th></th>\n",
       "      <th>Age</th>\n",
       "      <th>RestingBP</th>\n",
       "      <th>Cholesterol</th>\n",
       "      <th>FastingBS</th>\n",
       "      <th>MaxHR</th>\n",
       "      <th>Oldpeak</th>\n",
       "      <th>HeartDisease</th>\n",
       "    </tr>\n",
       "  </thead>\n",
       "  <tbody>\n",
       "    <tr>\n",
       "      <th>Age</th>\n",
       "      <td>1.000000</td>\n",
       "      <td>0.254399</td>\n",
       "      <td>-0.095282</td>\n",
       "      <td>0.198039</td>\n",
       "      <td>-0.382045</td>\n",
       "      <td>0.258612</td>\n",
       "      <td>0.282039</td>\n",
       "    </tr>\n",
       "    <tr>\n",
       "      <th>RestingBP</th>\n",
       "      <td>0.254399</td>\n",
       "      <td>1.000000</td>\n",
       "      <td>0.100893</td>\n",
       "      <td>0.070193</td>\n",
       "      <td>-0.112135</td>\n",
       "      <td>0.164803</td>\n",
       "      <td>0.107589</td>\n",
       "    </tr>\n",
       "    <tr>\n",
       "      <th>Cholesterol</th>\n",
       "      <td>-0.095282</td>\n",
       "      <td>0.100893</td>\n",
       "      <td>1.000000</td>\n",
       "      <td>-0.260974</td>\n",
       "      <td>0.235792</td>\n",
       "      <td>0.050148</td>\n",
       "      <td>-0.232741</td>\n",
       "    </tr>\n",
       "    <tr>\n",
       "      <th>FastingBS</th>\n",
       "      <td>0.198039</td>\n",
       "      <td>0.070193</td>\n",
       "      <td>-0.260974</td>\n",
       "      <td>1.000000</td>\n",
       "      <td>-0.131438</td>\n",
       "      <td>0.052698</td>\n",
       "      <td>0.267291</td>\n",
       "    </tr>\n",
       "    <tr>\n",
       "      <th>MaxHR</th>\n",
       "      <td>-0.382045</td>\n",
       "      <td>-0.112135</td>\n",
       "      <td>0.235792</td>\n",
       "      <td>-0.131438</td>\n",
       "      <td>1.000000</td>\n",
       "      <td>-0.160691</td>\n",
       "      <td>-0.400421</td>\n",
       "    </tr>\n",
       "    <tr>\n",
       "      <th>Oldpeak</th>\n",
       "      <td>0.258612</td>\n",
       "      <td>0.164803</td>\n",
       "      <td>0.050148</td>\n",
       "      <td>0.052698</td>\n",
       "      <td>-0.160691</td>\n",
       "      <td>1.000000</td>\n",
       "      <td>0.403951</td>\n",
       "    </tr>\n",
       "    <tr>\n",
       "      <th>HeartDisease</th>\n",
       "      <td>0.282039</td>\n",
       "      <td>0.107589</td>\n",
       "      <td>-0.232741</td>\n",
       "      <td>0.267291</td>\n",
       "      <td>-0.400421</td>\n",
       "      <td>0.403951</td>\n",
       "      <td>1.000000</td>\n",
       "    </tr>\n",
       "  </tbody>\n",
       "</table>\n",
       "</div>"
      ],
      "text/plain": [
       "                   Age  RestingBP  Cholesterol  FastingBS     MaxHR   Oldpeak  \\\n",
       "Age           1.000000   0.254399    -0.095282   0.198039 -0.382045  0.258612   \n",
       "RestingBP     0.254399   1.000000     0.100893   0.070193 -0.112135  0.164803   \n",
       "Cholesterol  -0.095282   0.100893     1.000000  -0.260974  0.235792  0.050148   \n",
       "FastingBS     0.198039   0.070193    -0.260974   1.000000 -0.131438  0.052698   \n",
       "MaxHR        -0.382045  -0.112135     0.235792  -0.131438  1.000000 -0.160691   \n",
       "Oldpeak       0.258612   0.164803     0.050148   0.052698 -0.160691  1.000000   \n",
       "HeartDisease  0.282039   0.107589    -0.232741   0.267291 -0.400421  0.403951   \n",
       "\n",
       "              HeartDisease  \n",
       "Age               0.282039  \n",
       "RestingBP         0.107589  \n",
       "Cholesterol      -0.232741  \n",
       "FastingBS         0.267291  \n",
       "MaxHR            -0.400421  \n",
       "Oldpeak           0.403951  \n",
       "HeartDisease      1.000000  "
      ]
     },
     "execution_count": 27,
     "metadata": {},
     "output_type": "execute_result"
    }
   ],
   "source": [
    "data.corr()"
   ]
  },
  {
   "cell_type": "code",
   "execution_count": 28,
   "id": "469a59aa",
   "metadata": {
    "execution": {
     "iopub.execute_input": "2022-10-12T18:01:42.140413Z",
     "iopub.status.busy": "2022-10-12T18:01:42.140135Z",
     "iopub.status.idle": "2022-10-12T18:01:42.152743Z",
     "shell.execute_reply": "2022-10-12T18:01:42.151772Z"
    },
    "papermill": {
     "duration": 0.030243,
     "end_time": "2022-10-12T18:01:42.154881",
     "exception": false,
     "start_time": "2022-10-12T18:01:42.124638",
     "status": "completed"
    },
    "tags": []
   },
   "outputs": [
    {
     "data": {
      "image/png": "[encoded data removed]",
      "text/html": [
       "<div style=\"vertical-align: middle;\"><strong>mako</strong> </div><div class=\"cmap\"><img alt=\"mako colormap\" title=\"mako\" style=\"border: 1px solid #555;\" src=\"data:image/png;base64,iVBORw0KGgoAAAANSUhEUgAAAgAAAABACAYAAABsv8+/AAAAE3RFWHRUaXRsZQBtYWtvIGNvbG9ybWFwf+ab6gAAABl0RVh0RGVzY3JpcHRpb24AbWFrbyBjb2xvcm1hcPRUC3IAAAAwdEVYdEF1dGhvcgBNYXRwbG90bGliIHYzLjUuMywgaHR0cHM6Ly9tYXRwbG90bGliLm9yZ2fR6JIAAAAydEVYdFNvZnR3YXJlAE1hdHBsb3RsaWIgdjMuNS4zLCBodHRwczovL21hdHBsb3RsaWIub3JnSXd3tQAAAg1JREFUeJzt1juS2zAURcEHsBx5/+vVJJRcBAFDnPR2Jyx8SY0dnPb3+POqqmqtVVVVq/PZel3mP+vj/GK8vGcY7/Y9Xv/dubp91/xcLX//e30xv7h/nK9f3le3+97j+e/89zuu++7nh3urTedrcc9+/f/j12q9t2F9Pv7M93FfLe6rzb6az7f3/HVc13/G+/r2/vl7bs/+3b7l+7fnN+8fvv/r967uv90zP9++Pj/f1zbf0xb3rM618f4+Pzee38739t2+zbMP37Vcb69hfF1/+jwW46OG8fmi47ZvnG+P5vtt/vpcrY/z/fzDfdafzp/jfv4H7eN8u84fNZ9/es9yfwEAcQQAAAQSAAAQSAAAQCABAACBBAAABBIAABBIAABAIAEAAIEEAAAEEgAAEEgAAEAgAQAAgQQAAAQSAAAQSAAAQCABAACBBAAABBIAABBIAABAIAEAAIEEAAAEEgAAEEgAAEAgAQAAgQQAAAQSAAAQSAAAQCABAACBBAAABBIAABBIAABAIAEAAIEEAAAEEgAAEEgAAEAgAQAAgQQAAAQSAAAQSAAAQCABAACBBAAABBIAABBIAABAIAEAAIEEAAAEEgAAEEgAAEAgAQAAgQQAAAQSAAAQSAAAQCABAACBBAAABBIAABBIAABAIAEAAIEEAAAEEgAAEEgAAEAgAQAAgQQAAAQSAAAQ6AcTSxI150SdAwAAAABJRU5ErkJggg==\"></div><div style=\"vertical-align: middle; max-width: 514px; display: flex; justify-content: space-between;\"><div style=\"float: left;\"><div title=\"#0b0405ff\" style=\"display: inline-block; width: 1em; height: 1em; margin: 0; vertical-align: middle; border: 1px solid #555; background-color: #0b0405ff;\"></div> under</div><div style=\"margin: 0 auto; display: inline-block;\">bad <div title=\"#00000000\" style=\"display: inline-block; width: 1em; height: 1em; margin: 0; vertical-align: middle; border: 1px solid #555; background-color: #00000000;\"></div></div><div style=\"float: right;\">over <div title=\"#def5e5ff\" style=\"display: inline-block; width: 1em; height: 1em; margin: 0; vertical-align: middle; border: 1px solid #555; background-color: #def5e5ff;\"></div></div>"
      ],
      "text/plain": [
       "<matplotlib.colors.ListedColormap at 0x7f9b2bc3d3d0>"
      ]
     },
     "execution_count": 28,
     "metadata": {},
     "output_type": "execute_result"
    }
   ],
   "source": [
    "sns.color_palette(\"mako\", as_cmap=True)"
   ]
  },
  {
   "cell_type": "code",
   "execution_count": 29,
   "id": "4d5d6613",
   "metadata": {
    "execution": {
     "iopub.execute_input": "2022-10-12T18:01:42.185281Z",
     "iopub.status.busy": "2022-10-12T18:01:42.185017Z",
     "iopub.status.idle": "2022-10-12T18:01:42.697261Z",
     "shell.execute_reply": "2022-10-12T18:01:42.695960Z"
    },
    "papermill": {
     "duration": 0.530519,
     "end_time": "2022-10-12T18:01:42.699949",
     "exception": false,
     "start_time": "2022-10-12T18:01:42.169430",
     "status": "completed"
    },
    "tags": []
   },
   "outputs": [
    {
     "data": {
      "image/png": "[encoded data removed]",
      "text/plain": [
       "<Figure size 864x576 with 2 Axes>"
      ]
     },
     "metadata": {
      "needs_background": "light"
     },
     "output_type": "display_data"
    }
   ],
   "source": [
    "corr_map = data.corr()\n",
    "top_corr_features = corr_map.index\n",
    "plt.figure(figsize=(12,8))\n",
    "corr_heatmap = sns.heatmap(data[top_corr_features].corr(),annot=True,cmap=\"mako\")"
   ]
  },
  {
   "cell_type": "code",
   "execution_count": 30,
   "id": "ff820535",
   "metadata": {
    "execution": {
     "iopub.execute_input": "2022-10-12T18:01:42.732722Z",
     "iopub.status.busy": "2022-10-12T18:01:42.732435Z",
     "iopub.status.idle": "2022-10-12T18:01:42.736866Z",
     "shell.execute_reply": "2022-10-12T18:01:42.735903Z"
    },
    "papermill": {
     "duration": 0.022675,
     "end_time": "2022-10-12T18:01:42.738968",
     "exception": false,
     "start_time": "2022-10-12T18:01:42.716293",
     "status": "completed"
    },
    "tags": []
   },
   "outputs": [],
   "source": [
    "# copying the data to preserve the original dataset\n",
    "data_copy = data.copy()"
   ]
  },
  {
   "cell_type": "code",
   "execution_count": 31,
   "id": "65e2608e",
   "metadata": {
    "execution": {
     "iopub.execute_input": "2022-10-12T18:01:42.771567Z",
     "iopub.status.busy": "2022-10-12T18:01:42.770175Z",
     "iopub.status.idle": "2022-10-12T18:01:42.798607Z",
     "shell.execute_reply": "2022-10-12T18:01:42.797459Z"
    },
    "papermill": {
     "duration": 0.046916,
     "end_time": "2022-10-12T18:01:42.801004",
     "exception": false,
     "start_time": "2022-10-12T18:01:42.754088",
     "status": "completed"
    },
    "tags": []
   },
   "outputs": [
    {
     "data": {
      "text/html": [
       "<div>\n",
       "<style scoped>\n",
       "    .dataframe tbody tr th:only-of-type {\n",
       "        vertical-align: middle;\n",
       "    }\n",
       "\n",
       "    .dataframe tbody tr th {\n",
       "        vertical-align: top;\n",
       "    }\n",
       "\n",
       "    .dataframe thead th {\n",
       "        text-align: right;\n",
       "    }\n",
       "</style>\n",
       "<table border=\"1\" class=\"dataframe\">\n",
       "  <thead>\n",
       "    <tr style=\"text-align: right;\">\n",
       "      <th></th>\n",
       "      <th>0</th>\n",
       "      <th>1</th>\n",
       "      <th>2</th>\n",
       "      <th>3</th>\n",
       "      <th>4</th>\n",
       "      <th>5</th>\n",
       "      <th>6</th>\n",
       "      <th>7</th>\n",
       "      <th>8</th>\n",
       "      <th>9</th>\n",
       "      <th>10</th>\n",
       "      <th>11</th>\n",
       "      <th>12</th>\n",
       "      <th>13</th>\n",
       "    </tr>\n",
       "  </thead>\n",
       "  <tbody>\n",
       "    <tr>\n",
       "      <th>0</th>\n",
       "      <td>0.0</td>\n",
       "      <td>1.0</td>\n",
       "      <td>0.0</td>\n",
       "      <td>1.0</td>\n",
       "      <td>0.0</td>\n",
       "      <td>0.0</td>\n",
       "      <td>0.0</td>\n",
       "      <td>1.0</td>\n",
       "      <td>0.0</td>\n",
       "      <td>1.0</td>\n",
       "      <td>0.0</td>\n",
       "      <td>0.0</td>\n",
       "      <td>0.0</td>\n",
       "      <td>1.0</td>\n",
       "    </tr>\n",
       "    <tr>\n",
       "      <th>1</th>\n",
       "      <td>1.0</td>\n",
       "      <td>0.0</td>\n",
       "      <td>0.0</td>\n",
       "      <td>0.0</td>\n",
       "      <td>1.0</td>\n",
       "      <td>0.0</td>\n",
       "      <td>0.0</td>\n",
       "      <td>1.0</td>\n",
       "      <td>0.0</td>\n",
       "      <td>1.0</td>\n",
       "      <td>0.0</td>\n",
       "      <td>0.0</td>\n",
       "      <td>1.0</td>\n",
       "      <td>0.0</td>\n",
       "    </tr>\n",
       "    <tr>\n",
       "      <th>2</th>\n",
       "      <td>0.0</td>\n",
       "      <td>1.0</td>\n",
       "      <td>0.0</td>\n",
       "      <td>1.0</td>\n",
       "      <td>0.0</td>\n",
       "      <td>0.0</td>\n",
       "      <td>0.0</td>\n",
       "      <td>0.0</td>\n",
       "      <td>1.0</td>\n",
       "      <td>1.0</td>\n",
       "      <td>0.0</td>\n",
       "      <td>0.0</td>\n",
       "      <td>0.0</td>\n",
       "      <td>1.0</td>\n",
       "    </tr>\n",
       "    <tr>\n",
       "      <th>3</th>\n",
       "      <td>1.0</td>\n",
       "      <td>0.0</td>\n",
       "      <td>1.0</td>\n",
       "      <td>0.0</td>\n",
       "      <td>0.0</td>\n",
       "      <td>0.0</td>\n",
       "      <td>0.0</td>\n",
       "      <td>1.0</td>\n",
       "      <td>0.0</td>\n",
       "      <td>0.0</td>\n",
       "      <td>1.0</td>\n",
       "      <td>0.0</td>\n",
       "      <td>1.0</td>\n",
       "      <td>0.0</td>\n",
       "    </tr>\n",
       "    <tr>\n",
       "      <th>4</th>\n",
       "      <td>0.0</td>\n",
       "      <td>1.0</td>\n",
       "      <td>0.0</td>\n",
       "      <td>0.0</td>\n",
       "      <td>1.0</td>\n",
       "      <td>0.0</td>\n",
       "      <td>0.0</td>\n",
       "      <td>1.0</td>\n",
       "      <td>0.0</td>\n",
       "      <td>1.0</td>\n",
       "      <td>0.0</td>\n",
       "      <td>0.0</td>\n",
       "      <td>0.0</td>\n",
       "      <td>1.0</td>\n",
       "    </tr>\n",
       "  </tbody>\n",
       "</table>\n",
       "</div>"
      ],
      "text/plain": [
       "    0    1    2    3    4    5    6    7    8    9    10   11   12   13\n",
       "0  0.0  1.0  0.0  1.0  0.0  0.0  0.0  1.0  0.0  1.0  0.0  0.0  0.0  1.0\n",
       "1  1.0  0.0  0.0  0.0  1.0  0.0  0.0  1.0  0.0  1.0  0.0  0.0  1.0  0.0\n",
       "2  0.0  1.0  0.0  1.0  0.0  0.0  0.0  0.0  1.0  1.0  0.0  0.0  0.0  1.0\n",
       "3  1.0  0.0  1.0  0.0  0.0  0.0  0.0  1.0  0.0  0.0  1.0  0.0  1.0  0.0\n",
       "4  0.0  1.0  0.0  0.0  1.0  0.0  0.0  1.0  0.0  1.0  0.0  0.0  0.0  1.0"
      ]
     },
     "execution_count": 31,
     "metadata": {},
     "output_type": "execute_result"
    }
   ],
   "source": [
    "ohe = OneHotEncoder(handle_unknown='ignore')\n",
    "encoder_df = pd.DataFrame(ohe.fit_transform(data_copy[['Sex', 'ChestPainType', 'RestingECG', 'ExerciseAngina', 'ST_Slope']]).toarray())\n",
    "encoder_df.head()"
   ]
  },
  {
   "cell_type": "code",
   "execution_count": 32,
   "id": "e9fc92f6",
   "metadata": {
    "execution": {
     "iopub.execute_input": "2022-10-12T18:01:42.835115Z",
     "iopub.status.busy": "2022-10-12T18:01:42.834798Z",
     "iopub.status.idle": "2022-10-12T18:01:42.864299Z",
     "shell.execute_reply": "2022-10-12T18:01:42.863234Z"
    },
    "papermill": {
     "duration": 0.050007,
     "end_time": "2022-10-12T18:01:42.866632",
     "exception": false,
     "start_time": "2022-10-12T18:01:42.816625",
     "status": "completed"
    },
    "tags": []
   },
   "outputs": [
    {
     "data": {
      "text/html": [
       "<div>\n",
       "<style scoped>\n",
       "    .dataframe tbody tr th:only-of-type {\n",
       "        vertical-align: middle;\n",
       "    }\n",
       "\n",
       "    .dataframe tbody tr th {\n",
       "        vertical-align: top;\n",
       "    }\n",
       "\n",
       "    .dataframe thead th {\n",
       "        text-align: right;\n",
       "    }\n",
       "</style>\n",
       "<table border=\"1\" class=\"dataframe\">\n",
       "  <thead>\n",
       "    <tr style=\"text-align: right;\">\n",
       "      <th></th>\n",
       "      <th>Age</th>\n",
       "      <th>Sex</th>\n",
       "      <th>ChestPainType</th>\n",
       "      <th>RestingBP</th>\n",
       "      <th>Cholesterol</th>\n",
       "      <th>FastingBS</th>\n",
       "      <th>RestingECG</th>\n",
       "      <th>MaxHR</th>\n",
       "      <th>ExerciseAngina</th>\n",
       "      <th>Oldpeak</th>\n",
       "      <th>...</th>\n",
       "      <th>4</th>\n",
       "      <th>5</th>\n",
       "      <th>6</th>\n",
       "      <th>7</th>\n",
       "      <th>8</th>\n",
       "      <th>9</th>\n",
       "      <th>10</th>\n",
       "      <th>11</th>\n",
       "      <th>12</th>\n",
       "      <th>13</th>\n",
       "    </tr>\n",
       "  </thead>\n",
       "  <tbody>\n",
       "    <tr>\n",
       "      <th>0</th>\n",
       "      <td>40</td>\n",
       "      <td>M</td>\n",
       "      <td>ATA</td>\n",
       "      <td>140</td>\n",
       "      <td>289</td>\n",
       "      <td>0</td>\n",
       "      <td>Normal</td>\n",
       "      <td>172</td>\n",
       "      <td>N</td>\n",
       "      <td>0.0</td>\n",
       "      <td>...</td>\n",
       "      <td>0.0</td>\n",
       "      <td>0.0</td>\n",
       "      <td>0.0</td>\n",
       "      <td>1.0</td>\n",
       "      <td>0.0</td>\n",
       "      <td>1.0</td>\n",
       "      <td>0.0</td>\n",
       "      <td>0.0</td>\n",
       "      <td>0.0</td>\n",
       "      <td>1.0</td>\n",
       "    </tr>\n",
       "    <tr>\n",
       "      <th>1</th>\n",
       "      <td>49</td>\n",
       "      <td>F</td>\n",
       "      <td>NAP</td>\n",
       "      <td>160</td>\n",
       "      <td>180</td>\n",
       "      <td>0</td>\n",
       "      <td>Normal</td>\n",
       "      <td>156</td>\n",
       "      <td>N</td>\n",
       "      <td>1.0</td>\n",
       "      <td>...</td>\n",
       "      <td>1.0</td>\n",
       "      <td>0.0</td>\n",
       "      <td>0.0</td>\n",
       "      <td>1.0</td>\n",
       "      <td>0.0</td>\n",
       "      <td>1.0</td>\n",
       "      <td>0.0</td>\n",
       "      <td>0.0</td>\n",
       "      <td>1.0</td>\n",
       "      <td>0.0</td>\n",
       "    </tr>\n",
       "    <tr>\n",
       "      <th>2</th>\n",
       "      <td>37</td>\n",
       "      <td>M</td>\n",
       "      <td>ATA</td>\n",
       "      <td>130</td>\n",
       "      <td>283</td>\n",
       "      <td>0</td>\n",
       "      <td>ST</td>\n",
       "      <td>98</td>\n",
       "      <td>N</td>\n",
       "      <td>0.0</td>\n",
       "      <td>...</td>\n",
       "      <td>0.0</td>\n",
       "      <td>0.0</td>\n",
       "      <td>0.0</td>\n",
       "      <td>0.0</td>\n",
       "      <td>1.0</td>\n",
       "      <td>1.0</td>\n",
       "      <td>0.0</td>\n",
       "      <td>0.0</td>\n",
       "      <td>0.0</td>\n",
       "      <td>1.0</td>\n",
       "    </tr>\n",
       "    <tr>\n",
       "      <th>3</th>\n",
       "      <td>48</td>\n",
       "      <td>F</td>\n",
       "      <td>ASY</td>\n",
       "      <td>138</td>\n",
       "      <td>214</td>\n",
       "      <td>0</td>\n",
       "      <td>Normal</td>\n",
       "      <td>108</td>\n",
       "      <td>Y</td>\n",
       "      <td>1.5</td>\n",
       "      <td>...</td>\n",
       "      <td>0.0</td>\n",
       "      <td>0.0</td>\n",
       "      <td>0.0</td>\n",
       "      <td>1.0</td>\n",
       "      <td>0.0</td>\n",
       "      <td>0.0</td>\n",
       "      <td>1.0</td>\n",
       "      <td>0.0</td>\n",
       "      <td>1.0</td>\n",
       "      <td>0.0</td>\n",
       "    </tr>\n",
       "    <tr>\n",
       "      <th>4</th>\n",
       "      <td>54</td>\n",
       "      <td>M</td>\n",
       "      <td>NAP</td>\n",
       "      <td>150</td>\n",
       "      <td>195</td>\n",
       "      <td>0</td>\n",
       "      <td>Normal</td>\n",
       "      <td>122</td>\n",
       "      <td>N</td>\n",
       "      <td>0.0</td>\n",
       "      <td>...</td>\n",
       "      <td>1.0</td>\n",
       "      <td>0.0</td>\n",
       "      <td>0.0</td>\n",
       "      <td>1.0</td>\n",
       "      <td>0.0</td>\n",
       "      <td>1.0</td>\n",
       "      <td>0.0</td>\n",
       "      <td>0.0</td>\n",
       "      <td>0.0</td>\n",
       "      <td>1.0</td>\n",
       "    </tr>\n",
       "  </tbody>\n",
       "</table>\n",
       "<p>5 rows × 26 columns</p>\n",
       "</div>"
      ],
      "text/plain": [
       "   Age Sex ChestPainType  RestingBP  Cholesterol  FastingBS RestingECG  MaxHR  \\\n",
       "0   40   M           ATA        140          289          0     Normal    172   \n",
       "1   49   F           NAP        160          180          0     Normal    156   \n",
       "2   37   M           ATA        130          283          0         ST     98   \n",
       "3   48   F           ASY        138          214          0     Normal    108   \n",
       "4   54   M           NAP        150          195          0     Normal    122   \n",
       "\n",
       "  ExerciseAngina  Oldpeak  ...    4    5    6    7    8    9   10   11   12  \\\n",
       "0              N      0.0  ...  0.0  0.0  0.0  1.0  0.0  1.0  0.0  0.0  0.0   \n",
       "1              N      1.0  ...  1.0  0.0  0.0  1.0  0.0  1.0  0.0  0.0  1.0   \n",
       "2              N      0.0  ...  0.0  0.0  0.0  0.0  1.0  1.0  0.0  0.0  0.0   \n",
       "3              Y      1.5  ...  0.0  0.0  0.0  1.0  0.0  0.0  1.0  0.0  1.0   \n",
       "4              N      0.0  ...  1.0  0.0  0.0  1.0  0.0  1.0  0.0  0.0  0.0   \n",
       "\n",
       "    13  \n",
       "0  1.0  \n",
       "1  0.0  \n",
       "2  1.0  \n",
       "3  0.0  \n",
       "4  1.0  \n",
       "\n",
       "[5 rows x 26 columns]"
      ]
     },
     "execution_count": 32,
     "metadata": {},
     "output_type": "execute_result"
    }
   ],
   "source": [
    "f_data_copy = data_copy.join(encoder_df)\n",
    "f_data_copy.head()"
   ]
  },
  {
   "cell_type": "code",
   "execution_count": 33,
   "id": "b3967e1e",
   "metadata": {
    "execution": {
     "iopub.execute_input": "2022-10-12T18:01:42.900884Z",
     "iopub.status.busy": "2022-10-12T18:01:42.899494Z",
     "iopub.status.idle": "2022-10-12T18:01:42.925862Z",
     "shell.execute_reply": "2022-10-12T18:01:42.924620Z"
    },
    "papermill": {
     "duration": 0.045602,
     "end_time": "2022-10-12T18:01:42.928219",
     "exception": false,
     "start_time": "2022-10-12T18:01:42.882617",
     "status": "completed"
    },
    "tags": []
   },
   "outputs": [
    {
     "data": {
      "text/html": [
       "<div>\n",
       "<style scoped>\n",
       "    .dataframe tbody tr th:only-of-type {\n",
       "        vertical-align: middle;\n",
       "    }\n",
       "\n",
       "    .dataframe tbody tr th {\n",
       "        vertical-align: top;\n",
       "    }\n",
       "\n",
       "    .dataframe thead th {\n",
       "        text-align: right;\n",
       "    }\n",
       "</style>\n",
       "<table border=\"1\" class=\"dataframe\">\n",
       "  <thead>\n",
       "    <tr style=\"text-align: right;\">\n",
       "      <th></th>\n",
       "      <th>Age</th>\n",
       "      <th>RestingBP</th>\n",
       "      <th>Cholesterol</th>\n",
       "      <th>FastingBS</th>\n",
       "      <th>MaxHR</th>\n",
       "      <th>Oldpeak</th>\n",
       "      <th>HeartDisease</th>\n",
       "      <th>0</th>\n",
       "      <th>1</th>\n",
       "      <th>2</th>\n",
       "      <th>...</th>\n",
       "      <th>4</th>\n",
       "      <th>5</th>\n",
       "      <th>6</th>\n",
       "      <th>7</th>\n",
       "      <th>8</th>\n",
       "      <th>9</th>\n",
       "      <th>10</th>\n",
       "      <th>11</th>\n",
       "      <th>12</th>\n",
       "      <th>13</th>\n",
       "    </tr>\n",
       "  </thead>\n",
       "  <tbody>\n",
       "    <tr>\n",
       "      <th>0</th>\n",
       "      <td>40</td>\n",
       "      <td>140</td>\n",
       "      <td>289</td>\n",
       "      <td>0</td>\n",
       "      <td>172</td>\n",
       "      <td>0.0</td>\n",
       "      <td>0</td>\n",
       "      <td>0.0</td>\n",
       "      <td>1.0</td>\n",
       "      <td>0.0</td>\n",
       "      <td>...</td>\n",
       "      <td>0.0</td>\n",
       "      <td>0.0</td>\n",
       "      <td>0.0</td>\n",
       "      <td>1.0</td>\n",
       "      <td>0.0</td>\n",
       "      <td>1.0</td>\n",
       "      <td>0.0</td>\n",
       "      <td>0.0</td>\n",
       "      <td>0.0</td>\n",
       "      <td>1.0</td>\n",
       "    </tr>\n",
       "    <tr>\n",
       "      <th>1</th>\n",
       "      <td>49</td>\n",
       "      <td>160</td>\n",
       "      <td>180</td>\n",
       "      <td>0</td>\n",
       "      <td>156</td>\n",
       "      <td>1.0</td>\n",
       "      <td>1</td>\n",
       "      <td>1.0</td>\n",
       "      <td>0.0</td>\n",
       "      <td>0.0</td>\n",
       "      <td>...</td>\n",
       "      <td>1.0</td>\n",
       "      <td>0.0</td>\n",
       "      <td>0.0</td>\n",
       "      <td>1.0</td>\n",
       "      <td>0.0</td>\n",
       "      <td>1.0</td>\n",
       "      <td>0.0</td>\n",
       "      <td>0.0</td>\n",
       "      <td>1.0</td>\n",
       "      <td>0.0</td>\n",
       "    </tr>\n",
       "    <tr>\n",
       "      <th>2</th>\n",
       "      <td>37</td>\n",
       "      <td>130</td>\n",
       "      <td>283</td>\n",
       "      <td>0</td>\n",
       "      <td>98</td>\n",
       "      <td>0.0</td>\n",
       "      <td>0</td>\n",
       "      <td>0.0</td>\n",
       "      <td>1.0</td>\n",
       "      <td>0.0</td>\n",
       "      <td>...</td>\n",
       "      <td>0.0</td>\n",
       "      <td>0.0</td>\n",
       "      <td>0.0</td>\n",
       "      <td>0.0</td>\n",
       "      <td>1.0</td>\n",
       "      <td>1.0</td>\n",
       "      <td>0.0</td>\n",
       "      <td>0.0</td>\n",
       "      <td>0.0</td>\n",
       "      <td>1.0</td>\n",
       "    </tr>\n",
       "    <tr>\n",
       "      <th>3</th>\n",
       "      <td>48</td>\n",
       "      <td>138</td>\n",
       "      <td>214</td>\n",
       "      <td>0</td>\n",
       "      <td>108</td>\n",
       "      <td>1.5</td>\n",
       "      <td>1</td>\n",
       "      <td>1.0</td>\n",
       "      <td>0.0</td>\n",
       "      <td>1.0</td>\n",
       "      <td>...</td>\n",
       "      <td>0.0</td>\n",
       "      <td>0.0</td>\n",
       "      <td>0.0</td>\n",
       "      <td>1.0</td>\n",
       "      <td>0.0</td>\n",
       "      <td>0.0</td>\n",
       "      <td>1.0</td>\n",
       "      <td>0.0</td>\n",
       "      <td>1.0</td>\n",
       "      <td>0.0</td>\n",
       "    </tr>\n",
       "    <tr>\n",
       "      <th>4</th>\n",
       "      <td>54</td>\n",
       "      <td>150</td>\n",
       "      <td>195</td>\n",
       "      <td>0</td>\n",
       "      <td>122</td>\n",
       "      <td>0.0</td>\n",
       "      <td>0</td>\n",
       "      <td>0.0</td>\n",
       "      <td>1.0</td>\n",
       "      <td>0.0</td>\n",
       "      <td>...</td>\n",
       "      <td>1.0</td>\n",
       "      <td>0.0</td>\n",
       "      <td>0.0</td>\n",
       "      <td>1.0</td>\n",
       "      <td>0.0</td>\n",
       "      <td>1.0</td>\n",
       "      <td>0.0</td>\n",
       "      <td>0.0</td>\n",
       "      <td>0.0</td>\n",
       "      <td>1.0</td>\n",
       "    </tr>\n",
       "  </tbody>\n",
       "</table>\n",
       "<p>5 rows × 21 columns</p>\n",
       "</div>"
      ],
      "text/plain": [
       "   Age  RestingBP  Cholesterol  FastingBS  MaxHR  Oldpeak  HeartDisease    0  \\\n",
       "0   40        140          289          0    172      0.0             0  0.0   \n",
       "1   49        160          180          0    156      1.0             1  1.0   \n",
       "2   37        130          283          0     98      0.0             0  0.0   \n",
       "3   48        138          214          0    108      1.5             1  1.0   \n",
       "4   54        150          195          0    122      0.0             0  0.0   \n",
       "\n",
       "     1    2  ...    4    5    6    7    8    9   10   11   12   13  \n",
       "0  1.0  0.0  ...  0.0  0.0  0.0  1.0  0.0  1.0  0.0  0.0  0.0  1.0  \n",
       "1  0.0  0.0  ...  1.0  0.0  0.0  1.0  0.0  1.0  0.0  0.0  1.0  0.0  \n",
       "2  1.0  0.0  ...  0.0  0.0  0.0  0.0  1.0  1.0  0.0  0.0  0.0  1.0  \n",
       "3  0.0  1.0  ...  0.0  0.0  0.0  1.0  0.0  0.0  1.0  0.0  1.0  0.0  \n",
       "4  1.0  0.0  ...  1.0  0.0  0.0  1.0  0.0  1.0  0.0  0.0  0.0  1.0  \n",
       "\n",
       "[5 rows x 21 columns]"
      ]
     },
     "execution_count": 33,
     "metadata": {},
     "output_type": "execute_result"
    }
   ],
   "source": [
    "f_data_copy.drop(['Sex', 'ChestPainType', 'RestingECG', 'ExerciseAngina', 'ST_Slope'], axis=1, inplace=True)\n",
    "f_data_copy.head()"
   ]
  },
  {
   "cell_type": "code",
   "execution_count": 34,
   "id": "e1e41fb5",
   "metadata": {
    "execution": {
     "iopub.execute_input": "2022-10-12T18:01:42.962867Z",
     "iopub.status.busy": "2022-10-12T18:01:42.962026Z",
     "iopub.status.idle": "2022-10-12T18:01:42.968575Z",
     "shell.execute_reply": "2022-10-12T18:01:42.967649Z"
    },
    "papermill": {
     "duration": 0.025477,
     "end_time": "2022-10-12T18:01:42.970505",
     "exception": false,
     "start_time": "2022-10-12T18:01:42.945028",
     "status": "completed"
    },
    "tags": []
   },
   "outputs": [
    {
     "data": {
      "text/plain": [
       "[array(['F', 'M'], dtype=object),\n",
       " array(['ASY', 'ATA', 'NAP', 'TA'], dtype=object),\n",
       " array(['LVH', 'Normal', 'ST'], dtype=object),\n",
       " array(['N', 'Y'], dtype=object),\n",
       " array(['Down', 'Flat', 'Up'], dtype=object)]"
      ]
     },
     "execution_count": 34,
     "metadata": {},
     "output_type": "execute_result"
    }
   ],
   "source": [
    "ohe.categories_"
   ]
  },
  {
   "cell_type": "code",
   "execution_count": 35,
   "id": "c015aa46",
   "metadata": {
    "execution": {
     "iopub.execute_input": "2022-10-12T18:01:43.005686Z",
     "iopub.status.busy": "2022-10-12T18:01:43.004703Z",
     "iopub.status.idle": "2022-10-12T18:01:43.011559Z",
     "shell.execute_reply": "2022-10-12T18:01:43.010557Z"
    },
    "papermill": {
     "duration": 0.026189,
     "end_time": "2022-10-12T18:01:43.013497",
     "exception": false,
     "start_time": "2022-10-12T18:01:42.987308",
     "status": "completed"
    },
    "tags": []
   },
   "outputs": [
    {
     "data": {
      "text/plain": [
       "Index([         'Age',    'RestingBP',  'Cholesterol',    'FastingBS',\n",
       "              'MaxHR',      'Oldpeak', 'HeartDisease',              0,\n",
       "                    1,              2,              3,              4,\n",
       "                    5,              6,              7,              8,\n",
       "                    9,             10,             11,             12,\n",
       "                   13],\n",
       "      dtype='object')"
      ]
     },
     "execution_count": 35,
     "metadata": {},
     "output_type": "execute_result"
    }
   ],
   "source": [
    "f_data_copy.columns"
   ]
  },
  {
   "cell_type": "code",
   "execution_count": 36,
   "id": "95b976e4",
   "metadata": {
    "execution": {
     "iopub.execute_input": "2022-10-12T18:01:43.048840Z",
     "iopub.status.busy": "2022-10-12T18:01:43.048187Z",
     "iopub.status.idle": "2022-10-12T18:01:43.055955Z",
     "shell.execute_reply": "2022-10-12T18:01:43.055056Z"
    },
    "papermill": {
     "duration": 0.027652,
     "end_time": "2022-10-12T18:01:43.057963",
     "exception": false,
     "start_time": "2022-10-12T18:01:43.030311",
     "status": "completed"
    },
    "tags": []
   },
   "outputs": [],
   "source": [
    "input_features = ['Age', 'RestingBP', 'Cholesterol', 'FastingBS', 'MaxHR', 'Oldpeak', 0, 1, 2, 3, 4, 5, 6, 7, 8, 9, 10, 11, 12, 13]\n",
    "output_feature = ['HeartDisease']\n",
    "x = f_data_copy[input_features].values\n",
    "y = f_data_copy[output_feature].values\n",
    "x_train, x_test, y_train, y_test = train_test_split(x, y, test_size = 0.2, random_state=1)"
   ]
  },
  {
   "cell_type": "code",
   "execution_count": 37,
   "id": "69ab7f18",
   "metadata": {
    "execution": {
     "iopub.execute_input": "2022-10-12T18:01:43.091497Z",
     "iopub.status.busy": "2022-10-12T18:01:43.090991Z",
     "iopub.status.idle": "2022-10-12T18:01:43.095969Z",
     "shell.execute_reply": "2022-10-12T18:01:43.095034Z"
    },
    "papermill": {
     "duration": 0.024557,
     "end_time": "2022-10-12T18:01:43.098675",
     "exception": false,
     "start_time": "2022-10-12T18:01:43.074118",
     "status": "completed"
    },
    "tags": []
   },
   "outputs": [
    {
     "name": "stdout",
     "output_type": "stream",
     "text": [
      "(734, 20) (734, 1) (184, 20) (184, 1)\n"
     ]
    }
   ],
   "source": [
    "print(x_train.shape, y_train.shape, x_test.shape, y_test.shape)"
   ]
  },
  {
   "cell_type": "code",
   "execution_count": 38,
   "id": "c4773b3c",
   "metadata": {
    "execution": {
     "iopub.execute_input": "2022-10-12T18:01:43.135046Z",
     "iopub.status.busy": "2022-10-12T18:01:43.134283Z",
     "iopub.status.idle": "2022-10-12T18:01:43.319783Z",
     "shell.execute_reply": "2022-10-12T18:01:43.318948Z"
    },
    "papermill": {
     "duration": 0.205239,
     "end_time": "2022-10-12T18:01:43.321825",
     "exception": false,
     "start_time": "2022-10-12T18:01:43.116586",
     "status": "completed"
    },
    "tags": []
   },
   "outputs": [
    {
     "data": {
      "text/plain": [
       "RandomForestClassifier(random_state=1)"
      ]
     },
     "execution_count": 38,
     "metadata": {},
     "output_type": "execute_result"
    }
   ],
   "source": [
    "model = RandomForestClassifier(random_state=1)\n",
    "model.fit(x_train, y_train.ravel())"
   ]
  },
  {
   "cell_type": "code",
   "execution_count": 39,
   "id": "b8eb69ab",
   "metadata": {
    "execution": {
     "iopub.execute_input": "2022-10-12T18:01:43.356390Z",
     "iopub.status.busy": "2022-10-12T18:01:43.355695Z",
     "iopub.status.idle": "2022-10-12T18:01:43.373279Z",
     "shell.execute_reply": "2022-10-12T18:01:43.372190Z"
    },
    "papermill": {
     "duration": 0.037494,
     "end_time": "2022-10-12T18:01:43.375880",
     "exception": false,
     "start_time": "2022-10-12T18:01:43.338386",
     "status": "completed"
    },
    "tags": []
   },
   "outputs": [
    {
     "data": {
      "text/plain": [
       "array([0.0748357 , 0.0755625 , 0.10462386, 0.01988079, 0.09911211,\n",
       "       0.09339912, 0.02294021, 0.02244359, 0.08542546, 0.02519714,\n",
       "       0.01377775, 0.00628312, 0.01440595, 0.01006058, 0.00975124,\n",
       "       0.03818242, 0.05847471, 0.0058532 , 0.109973  , 0.10981757])"
      ]
     },
     "execution_count": 39,
     "metadata": {},
     "output_type": "execute_result"
    }
   ],
   "source": [
    "model.feature_importances_"
   ]
  },
  {
   "cell_type": "code",
   "execution_count": 40,
   "id": "7c80dd9d",
   "metadata": {
    "execution": {
     "iopub.execute_input": "2022-10-12T18:01:43.410473Z",
     "iopub.status.busy": "2022-10-12T18:01:43.410191Z",
     "iopub.status.idle": "2022-10-12T18:01:43.429293Z",
     "shell.execute_reply": "2022-10-12T18:01:43.428407Z"
    },
    "papermill": {
     "duration": 0.038779,
     "end_time": "2022-10-12T18:01:43.431241",
     "exception": false,
     "start_time": "2022-10-12T18:01:43.392462",
     "status": "completed"
    },
    "tags": []
   },
   "outputs": [],
   "source": [
    "prediction = model.predict(x_test)"
   ]
  },
  {
   "cell_type": "code",
   "execution_count": 41,
   "id": "d9c92185",
   "metadata": {
    "execution": {
     "iopub.execute_input": "2022-10-12T18:01:43.467867Z",
     "iopub.status.busy": "2022-10-12T18:01:43.466510Z",
     "iopub.status.idle": "2022-10-12T18:01:43.511928Z",
     "shell.execute_reply": "2022-10-12T18:01:43.510930Z"
    },
    "papermill": {
     "duration": 0.066195,
     "end_time": "2022-10-12T18:01:43.514608",
     "exception": false,
     "start_time": "2022-10-12T18:01:43.448413",
     "status": "completed"
    },
    "tags": []
   },
   "outputs": [
    {
     "name": "stdout",
     "output_type": "stream",
     "text": [
      "Train Score:  1.0\n",
      "Accuracy = 0.902\n",
      "Test Score:  0.9021739130434783\n"
     ]
    }
   ],
   "source": [
    "from sklearn import metrics\n",
    "print('Train Score: ', model.score(x_train, y_train))\n",
    "print(\"Accuracy = {0:.3f}\".format(metrics.accuracy_score(y_test, prediction)))\n",
    "print('Test Score: ', model.score(x_test, y_test)) "
   ]
  },
  {
   "cell_type": "code",
   "execution_count": 42,
   "id": "5a833eef",
   "metadata": {
    "execution": {
     "iopub.execute_input": "2022-10-12T18:01:43.550494Z",
     "iopub.status.busy": "2022-10-12T18:01:43.549684Z",
     "iopub.status.idle": "2022-10-12T18:01:43.559086Z",
     "shell.execute_reply": "2022-10-12T18:01:43.557680Z"
    },
    "papermill": {
     "duration": 0.028847,
     "end_time": "2022-10-12T18:01:43.561122",
     "exception": false,
     "start_time": "2022-10-12T18:01:43.532275",
     "status": "completed"
    },
    "tags": []
   },
   "outputs": [
    {
     "name": "stdout",
     "output_type": "stream",
     "text": [
      "              precision    recall  f1-score   support\n",
      "\n",
      "           0       0.89      0.86      0.88        74\n",
      "           1       0.91      0.93      0.92       110\n",
      "\n",
      "    accuracy                           0.90       184\n",
      "   macro avg       0.90      0.90      0.90       184\n",
      "weighted avg       0.90      0.90      0.90       184\n",
      "\n"
     ]
    }
   ],
   "source": [
    "from sklearn.metrics import classification_report, confusion_matrix\n",
    "print(classification_report(y_test, prediction))"
   ]
  },
  {
   "cell_type": "code",
   "execution_count": 43,
   "id": "cc0203f9",
   "metadata": {
    "execution": {
     "iopub.execute_input": "2022-10-12T18:01:43.599723Z",
     "iopub.status.busy": "2022-10-12T18:01:43.599453Z",
     "iopub.status.idle": "2022-10-12T18:01:43.607059Z",
     "shell.execute_reply": "2022-10-12T18:01:43.605822Z"
    },
    "papermill": {
     "duration": 0.027957,
     "end_time": "2022-10-12T18:01:43.609552",
     "exception": false,
     "start_time": "2022-10-12T18:01:43.581595",
     "status": "completed"
    },
    "tags": []
   },
   "outputs": [
    {
     "name": "stdout",
     "output_type": "stream",
     "text": [
      "[[ 64  10]\n",
      " [  8 102]]\n"
     ]
    }
   ],
   "source": [
    "print(confusion_matrix(y_test, prediction))"
   ]
  }
 ],
 "metadata": {
  "kernelspec": {
   "display_name": "Python 3",
   "language": "python",
   "name": "python3"
  },
  "language_info": {
   "codemirror_mode": {
    "name": "ipython",
    "version": 3
   },
   "file_extension": ".py",
   "mimetype": "text/x-python",
   "name": "python",
   "nbconvert_exporter": "python",
   "pygments_lexer": "ipython3",
   "version": "3.7.12"
  },
  "papermill": {
   "default_parameters": {},
   "duration": 22.352586,
   "end_time": "2022-10-12T18:01:46.312454",
   "environment_variables": {},
   "exception": null,
   "input_path": "__notebook__.ipynb",
   "output_path": "__notebook__.ipynb",
   "parameters": {},
   "start_time": "2022-10-12T18:01:23.959868",
   "version": "2.3.4"
  }
 },
 "nbformat": 4,
 "nbformat_minor": 5
}
